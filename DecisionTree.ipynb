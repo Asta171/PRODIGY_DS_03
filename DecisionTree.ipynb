{
  "nbformat": 4,
  "nbformat_minor": 0,
  "metadata": {
    "colab": {
      "provenance": []
    },
    "kernelspec": {
      "name": "python3",
      "display_name": "Python 3"
    },
    "language_info": {
      "name": "python"
    }
  },
  "cells": [
    {
      "cell_type": "code",
      "execution_count": 16,
      "metadata": {
        "colab": {
          "base_uri": "https://localhost:8080/"
        },
        "id": "n2JGAljj_9mJ",
        "outputId": "1695a342-7936-4113-baae-38f0ac44f04e"
      },
      "outputs": [
        {
          "output_type": "stream",
          "name": "stdout",
          "text": [
            "Classification Report:\n",
            "              precision    recall  f1-score   support\n",
            "\n",
            "       False       0.93      0.93      0.93     11966\n",
            "        True       0.46      0.46      0.46      1598\n",
            "\n",
            "    accuracy                           0.87     13564\n",
            "   macro avg       0.69      0.70      0.69     13564\n",
            "weighted avg       0.87      0.87      0.87     13564\n",
            "\n",
            "Confusion Matrix:\n",
            "[[11086   880]\n",
            " [  856   742]]\n",
            "Accuracy Score:\n",
            "0.8720141551164848\n"
          ]
        }
      ],
      "source": [
        "import pandas as pd\n",
        "from sklearn.model_selection import train_test_split\n",
        "from sklearn.tree import DecisionTreeClassifier\n",
        "from sklearn.metrics import classification_report, confusion_matrix, accuracy_score\n",
        "\n",
        "# Load the dataset\n",
        "file_path = '/content/bank-full.csv'\n",
        "df = pd.read_csv(file_path, sep=';')\n",
        "\n",
        "# Display basic information about the dataset\n",
        "#print(\"Basic information about the dataset:\")\n",
        "#print(df.info(), '\\n')\n",
        "\n",
        "# Summary statistics of the dataset\n",
        "#print(\"Summary statistics of the dataset:\")\n",
        "#print(df.describe(), '\\n')\n",
        "\n",
        "# Check for missing values\n",
        "#print(\"Missing values in the dataset:\")\n",
        "#print(df.isnull().sum(), '\\n')\n",
        "\n",
        "# Convert categorical variables to dummy/indicator variables\n",
        "df = pd.get_dummies(df, drop_first=True)\n",
        "\n",
        "# Split the dataset into features (X) and target variable (y)\n",
        "X = df.drop('y_yes', axis=1)  # Features\n",
        "y = df['y_yes']  # Target variable\n",
        "\n",
        "# Split the data into training and testing sets\n",
        "X_train, X_test, y_train, y_test = train_test_split(X, y, test_size=0.3, random_state=42)\n",
        "\n",
        "# Train a decision tree classifier\n",
        "clf = DecisionTreeClassifier(random_state=42)\n",
        "clf.fit(X_train, y_train)\n",
        "\n",
        "# Predict the test set results\n",
        "y_pred = clf.predict(X_test)\n",
        "\n",
        "# Evaluate the model\n",
        "print(\"Classification Report:\")\n",
        "print(classification_report(y_test, y_pred))\n",
        "\n",
        "print(\"Confusion Matrix:\")\n",
        "print(confusion_matrix(y_test, y_pred))\n",
        "\n",
        "print(\"Accuracy Score:\")\n",
        "print(accuracy_score(y_test, y_pred))\n"
      ]
    }
  ]
}